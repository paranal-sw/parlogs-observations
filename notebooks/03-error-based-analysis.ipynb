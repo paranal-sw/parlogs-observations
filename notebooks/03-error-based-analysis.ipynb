{
 "cells": [
  {
   "cell_type": "markdown",
   "metadata": {},
   "source": [
    "# Simple predictor"
   ]
  },
  {
   "cell_type": "markdown",
   "metadata": {},
   "source": [
    "2023-12-24 by @jpgil\n",
    "\n",
    "This notebook is available in Google Colaboratory at https://colab.research.google.com/github/paranal-sw/parlogs-observations/blob/main/notebooks/03-error-based-analysis.ipynb\n",
    "\n",
    "Below is an example with a real use case for the dataset. It implements a feature extraction in the logtext column (the error code, or *errcode*) and do a simple assumption to explain and predict execution failures. The method is simple to be used as a barebones for other kind of analysis."
   ]
  },
  {
   "cell_type": "markdown",
   "metadata": {},
   "source": [
    "## Imports and Dataset"
   ]
  },
  {
   "cell_type": "code",
   "execution_count": 1,
   "metadata": {},
   "outputs": [],
   "source": [
    "import os\n",
    "import re\n",
    "import pandas as pd\n",
    "from datetime import datetime\n",
    "import matplotlib.pyplot as plt\n",
    "import numpy as np\n",
    "from sklearn.metrics import (\n",
    "    precision_score,\n",
    "    accuracy_score,\n",
    "    confusion_matrix,\n",
    "    ConfusionMatrixDisplay,\n",
    "    f1_score,\n",
    "    classification_report,\n",
    ")\n",
    "\n",
    "# Set the warning mode to 'None' to suppress the warning SettingWithCopyWarning\n",
    "pd.options.mode.chained_assignment = None"
   ]
  },
  {
   "cell_type": "markdown",
   "metadata": {},
   "source": [
    "### Load Dataset"
   ]
  },
  {
   "cell_type": "code",
   "execution_count": 2,
   "metadata": {},
   "outputs": [],
   "source": [
    "from urllib.request import urlretrieve\n",
    "def direct_load(fname):\n",
    "    if not os.path.exists(f'{PATH}/{fname}'):\n",
    "        urlretrieve(f'{REPO_URL}/{fname}', f'{PATH}/{fname}')\n",
    "    df=pd.read_parquet(f'{PATH}/{fname}')\n",
    "    return df\n"
   ]
  },
  {
   "cell_type": "code",
   "execution_count": 3,
   "metadata": {},
   "outputs": [],
   "source": [
    "INSTRUMENT='GRAVITY'\n",
    "RANGE='1m'\n",
    "REPO_URL='https://huggingface.co/datasets/Paranal/parlogs-observations/resolve/main/data'\n",
    "PATH='sample_data' # Convenient name to be Colab compatible\n",
    "\n",
    "!mkdir -p $PATH\n",
    "\n",
    "df_meta = direct_load(f'{INSTRUMENT}-{RANGE}-meta.parket')\n",
    "df_inst = direct_load(f'{INSTRUMENT}-{RANGE}-traces.parket')\n",
    "df_subs = direct_load(f'{INSTRUMENT}-{RANGE}-traces-SUBSYSTEMS.parket')\n",
    "df_tele = direct_load(f'{INSTRUMENT}-{RANGE}-traces-TELESCOPES.parket')"
   ]
  },
  {
   "cell_type": "markdown",
   "metadata": {},
   "source": [
    "## Overview\n",
    "\n",
    "In VLTSW there are some kind of event logs with logtype=ERR. These events usually denotes failures or unexpected conditions in the system, but not necessarily leads to an failed observation. The errors are shown in the logtext column and has the general format:\n",
    "\n",
    "```bash\n",
    "{module}ERR_{name} : {Detail}\n",
    "```\n",
    "\n",
    "Some ERR examples are:"
   ]
  },
  {
   "cell_type": "code",
   "execution_count": 4,
   "metadata": {},
   "outputs": [
    {
     "data": {
      "text/html": [
       "<div>\n",
       "<style scoped>\n",
       "    .dataframe tbody tr th:only-of-type {\n",
       "        vertical-align: middle;\n",
       "    }\n",
       "\n",
       "    .dataframe tbody tr th {\n",
       "        vertical-align: top;\n",
       "    }\n",
       "\n",
       "    .dataframe thead th {\n",
       "        text-align: right;\n",
       "    }\n",
       "</style>\n",
       "<table border=\"1\" class=\"dataframe\">\n",
       "  <thead>\n",
       "    <tr style=\"text-align: right;\">\n",
       "      <th></th>\n",
       "      <th>system</th>\n",
       "      <th>logtype</th>\n",
       "      <th>module</th>\n",
       "      <th>logtext</th>\n",
       "    </tr>\n",
       "  </thead>\n",
       "  <tbody>\n",
       "    <tr>\n",
       "      <th>1238</th>\n",
       "      <td>GRAVITY</td>\n",
       "      <td>ERR</td>\n",
       "      <td>ic0lcu</td>\n",
       "      <td>ic0lcuERR_SEM_CMD_LOCKED : Command semaphore locked. Probably another command is executing.</td>\n",
       "    </tr>\n",
       "    <tr>\n",
       "      <th>1239</th>\n",
       "      <td>GRAVITY</td>\n",
       "      <td>ERR</td>\n",
       "      <td>lcctoo</td>\n",
       "      <td>lcctooERR_SEM_TAKE : Take semaphore failed (vxWorks error 3997700)</td>\n",
       "    </tr>\n",
       "    <tr>\n",
       "      <th>1241</th>\n",
       "      <td>GRAVITY</td>\n",
       "      <td>ERR</td>\n",
       "      <td>lcctoo</td>\n",
       "      <td>lcctooERR_SEM_TAKE : Take semaphore failed (vxWorks error 3997700)</td>\n",
       "    </tr>\n",
       "    <tr>\n",
       "      <th>1242</th>\n",
       "      <td>GRAVITY</td>\n",
       "      <td>ERR</td>\n",
       "      <td>ic0lcu</td>\n",
       "      <td>ic0lcuERR_SEM_CMD_LOCKED : Command semaphore locked. Probably another command is executing.</td>\n",
       "    </tr>\n",
       "    <tr>\n",
       "      <th>1278</th>\n",
       "      <td>GRAVITY</td>\n",
       "      <td>ERR</td>\n",
       "      <td>lcctoo</td>\n",
       "      <td>lcctooERR_SEM_TAKE : Take semaphore failed (vxWorks error 3997700)</td>\n",
       "    </tr>\n",
       "    <tr>\n",
       "      <th>...</th>\n",
       "      <td>...</td>\n",
       "      <td>...</td>\n",
       "      <td>...</td>\n",
       "      <td>...</td>\n",
       "    </tr>\n",
       "    <tr>\n",
       "      <th>1626930</th>\n",
       "      <td>GRAVITY</td>\n",
       "      <td>ERR</td>\n",
       "      <td>cai</td>\n",
       "      <td>caiERR_WRITE : database direct write attribute failed (Direct Address: PLIN=124 - AIN=66)</td>\n",
       "    </tr>\n",
       "    <tr>\n",
       "      <th>1626931</th>\n",
       "      <td>GRAVITY</td>\n",
       "      <td>ERR</td>\n",
       "      <td>cai</td>\n",
       "      <td>caiERR_WRITE : database direct write attribute failed (Direct Address: Record=[0;4] - Field=[0;3])</td>\n",
       "    </tr>\n",
       "    <tr>\n",
       "      <th>1626932</th>\n",
       "      <td>GRAVITY</td>\n",
       "      <td>ERR</td>\n",
       "      <td>cai</td>\n",
       "      <td>caiERR_WRITE : database direct write attribute failed (Direct Address: PLIN=124 - AIN=67)</td>\n",
       "    </tr>\n",
       "    <tr>\n",
       "      <th>1626933</th>\n",
       "      <td>GRAVITY</td>\n",
       "      <td>ERR</td>\n",
       "      <td>cai</td>\n",
       "      <td>caiERR_WRITE : database direct write attribute failed (Buffer Size=80 bytes - DataType(1st element)=48)</td>\n",
       "    </tr>\n",
       "    <tr>\n",
       "      <th>1626935</th>\n",
       "      <td>GRAVITY</td>\n",
       "      <td>ERR</td>\n",
       "      <td>cai</td>\n",
       "      <td>caiERR_WRITE : database direct write attribute failed (&lt;alias&gt;P20.totFlagTelSCPer(0:4,T1:T4))</td>\n",
       "    </tr>\n",
       "  </tbody>\n",
       "</table>\n",
       "<p>96837 rows × 4 columns</p>\n",
       "</div>"
      ],
      "text/plain": [
       "          system logtype  module  \\\n",
       "1238     GRAVITY     ERR  ic0lcu   \n",
       "1239     GRAVITY     ERR  lcctoo   \n",
       "1241     GRAVITY     ERR  lcctoo   \n",
       "1242     GRAVITY     ERR  ic0lcu   \n",
       "1278     GRAVITY     ERR  lcctoo   \n",
       "...          ...     ...     ...   \n",
       "1626930  GRAVITY     ERR     cai   \n",
       "1626931  GRAVITY     ERR     cai   \n",
       "1626932  GRAVITY     ERR     cai   \n",
       "1626933  GRAVITY     ERR     cai   \n",
       "1626935  GRAVITY     ERR     cai   \n",
       "\n",
       "                                                                                                         logtext  \n",
       "1238                 ic0lcuERR_SEM_CMD_LOCKED : Command semaphore locked. Probably another command is executing.  \n",
       "1239                                          lcctooERR_SEM_TAKE : Take semaphore failed (vxWorks error 3997700)  \n",
       "1241                                          lcctooERR_SEM_TAKE : Take semaphore failed (vxWorks error 3997700)  \n",
       "1242                 ic0lcuERR_SEM_CMD_LOCKED : Command semaphore locked. Probably another command is executing.  \n",
       "1278                                          lcctooERR_SEM_TAKE : Take semaphore failed (vxWorks error 3997700)  \n",
       "...                                                                                                          ...  \n",
       "1626930                caiERR_WRITE : database direct write attribute failed (Direct Address: PLIN=124 - AIN=66)  \n",
       "1626931       caiERR_WRITE : database direct write attribute failed (Direct Address: Record=[0;4] - Field=[0;3])  \n",
       "1626932                caiERR_WRITE : database direct write attribute failed (Direct Address: PLIN=124 - AIN=67)  \n",
       "1626933  caiERR_WRITE : database direct write attribute failed (Buffer Size=80 bytes - DataType(1st element)=48)  \n",
       "1626935            caiERR_WRITE : database direct write attribute failed (<alias>P20.totFlagTelSCPer(0:4,T1:T4))  \n",
       "\n",
       "[96837 rows x 4 columns]"
      ]
     },
     "metadata": {},
     "output_type": "display_data"
    }
   ],
   "source": [
    "with pd.option_context('display.max_colwidth', None):\n",
    "    display(df_inst[ df_inst['logtype']=='ERR' ][['system', 'logtype', 'module', 'logtext']])"
   ]
  },
  {
   "cell_type": "markdown",
   "metadata": {},
   "source": [
    "We will implement two straight tokenizations to logtext:\n",
    "\n",
    "1. ```errcode = {module}ERR_{name}``` only\n",
    "\n",
    "In successful executions, the different ```errcode``` that appears in the traces do not lead to an failure, therefore they can be collected and marked as **harmless errors**. Those ```errcode``` in failed executions are likely causes for the failure, and can be used as predictors because they appears before the last error in BOB.\n",
    "\n",
    "2. ```errcode : {errdata}``` where ```{errdata}``` is the ```{Detail}``` restricted to alphabet chars only. \n",
    "\n",
    "The same criteria applies, but in this case the details are taken in account, however simplified by restricting their character to ```[a-zA-Z]``` only to have a controlled vocabulary diverse enough to retain information."
   ]
  },
  {
   "cell_type": "markdown",
   "metadata": {},
   "source": [
    "## Split dataset"
   ]
  },
  {
   "cell_type": "markdown",
   "metadata": {},
   "source": [
    "### Filter and preprocess traces "
   ]
  },
  {
   "cell_type": "markdown",
   "metadata": {},
   "source": [
    "All the traces are merged and filtered by ERR only"
   ]
  },
  {
   "cell_type": "code",
   "execution_count": 5,
   "metadata": {},
   "outputs": [
    {
     "name": "stdout",
     "output_type": "stream",
     "text": [
      "There all 3541706 total traces\n",
      "After filtering, there are 848633 ERR traces\n"
     ]
    }
   ],
   "source": [
    "df_all = pd.concat([df_inst, df_subs, df_tele]).sort_values('@timestamp').reset_index(drop=True)\n",
    "print(f'There all {len(df_all)} total traces')\n",
    "\n",
    "df_all = df_all[ df_all['logtype']=='ERR']\n",
    "print(f'After filtering, there are {len(df_all)} ERR traces')"
   ]
  },
  {
   "cell_type": "markdown",
   "metadata": {},
   "source": [
    "### Feature Extraction"
   ]
  },
  {
   "cell_type": "markdown",
   "metadata": {},
   "source": [
    "Two new columns are added with the ```errcode``` and ```errdata``` extracted from logtext. Note that some logtype=ERR do not has ```errcode```, this happens usally in BOB. Those events are discarded."
   ]
  },
  {
   "cell_type": "code",
   "execution_count": 6,
   "metadata": {},
   "outputs": [],
   "source": [
    "# Feature extraction \n",
    "\n",
    "def extract_errcode(x):\n",
    "    return x.split()[0] if 'ERR_' in x else '' \n",
    "\n",
    "def extract_errdata(x):\n",
    "    # Given the nature of error logs, the majority uses the pattern .+ERR_.+, but other important ERR logs must be used as is.\n",
    "    if 'ERR_' in x:\n",
    "        errdata=' '.join(x.split()[2:])\n",
    "        return re.sub(r'[^a-zA-Z\\ ]', ' ', errdata)\n",
    "    else:\n",
    "        return ''\n"
   ]
  },
  {
   "cell_type": "code",
   "execution_count": 7,
   "metadata": {},
   "outputs": [
    {
     "name": "stdout",
     "output_type": "stream",
     "text": [
      "215 empty errcodes about to be discarded of  848633 events in trace\n"
     ]
    }
   ],
   "source": [
    "df_all['errcode'] = df_all['logtext'].apply( extract_errcode )\n",
    "df_all['errdata'] = df_all['logtext'].apply( extract_errdata )\n",
    "\n",
    "print(f'{len(df_all[ df_all[\"errcode\"]==\"\" ])} empty errcodes about to be discarded of  {len(df_all)} events in trace')\n",
    "\n",
    "df_all = df_all[ df_all[\"errcode\"]!=\"\" ]\n"
   ]
  },
  {
   "cell_type": "code",
   "execution_count": 8,
   "metadata": {},
   "outputs": [
    {
     "data": {
      "text/html": [
       "<div>\n",
       "<style scoped>\n",
       "    .dataframe tbody tr th:only-of-type {\n",
       "        vertical-align: middle;\n",
       "    }\n",
       "\n",
       "    .dataframe tbody tr th {\n",
       "        vertical-align: top;\n",
       "    }\n",
       "\n",
       "    .dataframe thead th {\n",
       "        text-align: right;\n",
       "    }\n",
       "</style>\n",
       "<table border=\"1\" class=\"dataframe\">\n",
       "  <thead>\n",
       "    <tr style=\"text-align: right;\">\n",
       "      <th></th>\n",
       "      <th>logtext</th>\n",
       "      <th>errcode</th>\n",
       "      <th>errdata</th>\n",
       "    </tr>\n",
       "  </thead>\n",
       "  <tbody>\n",
       "    <tr>\n",
       "      <th>352</th>\n",
       "      <td>evhERR_CMD_NOT_CHECKED : Command SETUP not checked sent by proc issifControl on env wvgvlti</td>\n",
       "      <td>evhERR_CMD_NOT_CHECKED</td>\n",
       "      <td>Command SETUP not checked sent by proc issifControl on env wvgvlti</td>\n",
       "    </tr>\n",
       "    <tr>\n",
       "      <th>432</th>\n",
       "      <td>eccsERR_BUF_TOO_BIG : Buffer too big. Size: 703, Max allowed size: 176, Buffer: atagwsCON_SETUP::Set...</td>\n",
       "      <td>eccsERR_BUF_TOO_BIG</td>\n",
       "      <td>Buffer too big  Size       Max allowed size       Buffer  atagwsCON SETUP  Set</td>\n",
       "    </tr>\n",
       "    <tr>\n",
       "      <th>438</th>\n",
       "      <td>eccsERR_BUF_TOO_BIG : Buffer too big. Size: 703, Max allowed size: 176, Buffer: atagwsCON_SETUP::Set...</td>\n",
       "      <td>eccsERR_BUF_TOO_BIG</td>\n",
       "      <td>Buffer too big  Size       Max allowed size       Buffer  atagwsCON SETUP  Set</td>\n",
       "    </tr>\n",
       "    <tr>\n",
       "      <th>449</th>\n",
       "      <td>eccsERR_BUF_TOO_BIG : Buffer too big. Size: 703, Max allowed size: 176, Buffer: atagwsCON_SETUP::Set...</td>\n",
       "      <td>eccsERR_BUF_TOO_BIG</td>\n",
       "      <td>Buffer too big  Size       Max allowed size       Buffer  atagwsCON SETUP  Set</td>\n",
       "    </tr>\n",
       "    <tr>\n",
       "      <th>483</th>\n",
       "      <td>eccsERR_BUF_TOO_BIG : Buffer too big. Size: 703, Max allowed size: 176, Buffer: atagwsCON_SETUP::Set...</td>\n",
       "      <td>eccsERR_BUF_TOO_BIG</td>\n",
       "      <td>Buffer too big  Size       Max allowed size       Buffer  atagwsCON SETUP  Set</td>\n",
       "    </tr>\n",
       "    <tr>\n",
       "      <th>...</th>\n",
       "      <td>...</td>\n",
       "      <td>...</td>\n",
       "      <td>...</td>\n",
       "    </tr>\n",
       "    <tr>\n",
       "      <th>3541678</th>\n",
       "      <td>caiERR_WRITE : database direct write attribute failed (Direct Address: PLIN=124 - AIN=67)</td>\n",
       "      <td>caiERR_WRITE</td>\n",
       "      <td>database direct write attribute failed  Direct Address  PLIN       AIN</td>\n",
       "    </tr>\n",
       "    <tr>\n",
       "      <th>3541679</th>\n",
       "      <td>caiERR_WRITE : database direct write attribute failed (Buffer Size=80 bytes - DataType(1st element)=48)</td>\n",
       "      <td>caiERR_WRITE</td>\n",
       "      <td>database direct write attribute failed  Buffer Size    bytes   DataType  st element</td>\n",
       "    </tr>\n",
       "    <tr>\n",
       "      <th>3541681</th>\n",
       "      <td>dlpxposERR_TEST : Metrology test failed - Low quality</td>\n",
       "      <td>dlpxposERR_TEST</td>\n",
       "      <td>Metrology test failed   Low quality</td>\n",
       "    </tr>\n",
       "    <tr>\n",
       "      <th>3541682</th>\n",
       "      <td>dlpxposERR_LASER_SIGNAL : Lost Laser Metrology input signal - Check cables</td>\n",
       "      <td>dlpxposERR_LASER_SIGNAL</td>\n",
       "      <td>Lost Laser Metrology input signal   Check cables</td>\n",
       "    </tr>\n",
       "    <tr>\n",
       "      <th>3541683</th>\n",
       "      <td>dlpxposERR_LASER_GLITCH : Laser Metrology detected 2000 glitches</td>\n",
       "      <td>dlpxposERR_LASER_GLITCH</td>\n",
       "      <td>Laser Metrology detected      glitches</td>\n",
       "    </tr>\n",
       "  </tbody>\n",
       "</table>\n",
       "<p>848418 rows × 3 columns</p>\n",
       "</div>"
      ],
      "text/plain": [
       "                                                                                                         logtext  \\\n",
       "352                  evhERR_CMD_NOT_CHECKED : Command SETUP not checked sent by proc issifControl on env wvgvlti   \n",
       "432      eccsERR_BUF_TOO_BIG : Buffer too big. Size: 703, Max allowed size: 176, Buffer: atagwsCON_SETUP::Set...   \n",
       "438      eccsERR_BUF_TOO_BIG : Buffer too big. Size: 703, Max allowed size: 176, Buffer: atagwsCON_SETUP::Set...   \n",
       "449      eccsERR_BUF_TOO_BIG : Buffer too big. Size: 703, Max allowed size: 176, Buffer: atagwsCON_SETUP::Set...   \n",
       "483      eccsERR_BUF_TOO_BIG : Buffer too big. Size: 703, Max allowed size: 176, Buffer: atagwsCON_SETUP::Set...   \n",
       "...                                                                                                          ...   \n",
       "3541678                caiERR_WRITE : database direct write attribute failed (Direct Address: PLIN=124 - AIN=67)   \n",
       "3541679  caiERR_WRITE : database direct write attribute failed (Buffer Size=80 bytes - DataType(1st element)=48)   \n",
       "3541681                                                    dlpxposERR_TEST : Metrology test failed - Low quality   \n",
       "3541682                               dlpxposERR_LASER_SIGNAL : Lost Laser Metrology input signal - Check cables   \n",
       "3541683                                         dlpxposERR_LASER_GLITCH : Laser Metrology detected 2000 glitches   \n",
       "\n",
       "                         errcode  \\\n",
       "352       evhERR_CMD_NOT_CHECKED   \n",
       "432          eccsERR_BUF_TOO_BIG   \n",
       "438          eccsERR_BUF_TOO_BIG   \n",
       "449          eccsERR_BUF_TOO_BIG   \n",
       "483          eccsERR_BUF_TOO_BIG   \n",
       "...                          ...   \n",
       "3541678             caiERR_WRITE   \n",
       "3541679             caiERR_WRITE   \n",
       "3541681          dlpxposERR_TEST   \n",
       "3541682  dlpxposERR_LASER_SIGNAL   \n",
       "3541683  dlpxposERR_LASER_GLITCH   \n",
       "\n",
       "                                                                                          errdata  \n",
       "352                            Command SETUP not checked sent by proc issifControl on env wvgvlti  \n",
       "432             Buffer too big  Size       Max allowed size       Buffer  atagwsCON SETUP  Set     \n",
       "438             Buffer too big  Size       Max allowed size       Buffer  atagwsCON SETUP  Set     \n",
       "449             Buffer too big  Size       Max allowed size       Buffer  atagwsCON SETUP  Set     \n",
       "483             Buffer too big  Size       Max allowed size       Buffer  atagwsCON SETUP  Set     \n",
       "...                                                                                           ...  \n",
       "3541678                database direct write attribute failed  Direct Address  PLIN       AIN      \n",
       "3541679  database direct write attribute failed  Buffer Size    bytes   DataType  st element       \n",
       "3541681                                                       Metrology test failed   Low quality  \n",
       "3541682                                          Lost Laser Metrology input signal   Check cables  \n",
       "3541683                                                    Laser Metrology detected      glitches  \n",
       "\n",
       "[848418 rows x 3 columns]"
      ]
     },
     "metadata": {},
     "output_type": "display_data"
    }
   ],
   "source": [
    "with pd.option_context('display.max_colwidth', None):\n",
    "    display(df_all[['logtext', 'errcode', 'errdata']])"
   ]
  },
  {
   "cell_type": "markdown",
   "metadata": {},
   "source": [
    "### Label traces by state"
   ]
  },
  {
   "cell_type": "markdown",
   "metadata": {},
   "source": [
    "Split executions that failed and execution that didn't failed (successful + aborted)"
   ]
  },
  {
   "cell_type": "code",
   "execution_count": 9,
   "metadata": {},
   "outputs": [
    {
     "name": "stdout",
     "output_type": "stream",
     "text": [
      "Of all executions, 92 failed and 676 were successful\n"
     ]
    }
   ],
   "source": [
    "df_meta_success = df_meta[ df_meta['ERROR']==False ]\n",
    "df_meta_success['STATE'] = 'Success'\n",
    "\n",
    "df_meta_failed  = df_meta[ df_meta['ERROR']==True ]\n",
    "df_meta_failed['STATE']  = 'Failed'\n",
    "\n",
    "print(f'Of all executions, {len(df_meta_failed)} failed and {len(df_meta_success)} were successful')\n",
    "\n",
    "# Label traces by its execution state -- NOT USED\n",
    "# df_all.loc[ df_all['trace_id'].isin(df_meta_success.index), 'STATE'] = 'Success'\n",
    "# df_all.loc[ df_all['trace_id'].isin(df_meta_failed.index ), 'STATE'] = 'Failed'\n",
    "\n",
    "# df_all[['logtext', 'errcode', 'errdata', 'STATE']]"
   ]
  },
  {
   "cell_type": "markdown",
   "metadata": {},
   "source": [
    "## Train Test Split\n",
    "\n",
    "Now we will separate the executions in two groups for training and for testing. Then we will collect the traces of each group and train the model with traces.\n",
    "\n",
    "The work units are executions in df_meta, we need to split those items. The two classes {successful, failed} are not balanced, therefore we will do it manually using a ${train}/{total}$ factor will merge the successful and failed executions into single dataframes manually instead of using the traditional ```sklearn.model_selection.train_test_split``` method.\n",
    "\n"
   ]
  },
  {
   "cell_type": "code",
   "execution_count": 10,
   "metadata": {
    "tags": [
     "parameters"
    ]
   },
   "outputs": [],
   "source": [
    "# Train Test factor\n",
    "FACTOR=0.66"
   ]
  },
  {
   "cell_type": "code",
   "execution_count": 11,
   "metadata": {},
   "outputs": [
    {
     "name": "stdout",
     "output_type": "stream",
     "text": [
      "Train (446+60) + Test (230+32) = 768 / 768\n"
     ]
    }
   ],
   "source": [
    "# 1. Split the executions, in df_meta_*\n",
    "\n",
    "# Randomize\n",
    "df_meta_success=df_meta_success.sample(frac=1)\n",
    "df_meta_failed =df_meta_failed.sample(frac=1)\n",
    "\n",
    "len_S_train = int( len(df_meta_success) * FACTOR )\n",
    "len_F_train = int( len(df_meta_failed) * FACTOR )\n",
    "\n",
    "# Up to len_*_train\n",
    "X_meta_train = pd.concat([df_meta_success[:len_S_train], df_meta_failed[:len_F_train]])\n",
    "\n",
    "len_S_test = len(df_meta_success) - len_S_train\n",
    "len_F_test = len(df_meta_failed) - len_F_train\n",
    "\n",
    "# From len_*_test until end\n",
    "X_meta_test  = pd.concat([df_meta_success[-len_S_test:],  df_meta_failed[-len_F_test:]])\n",
    "\n",
    "print(f'Train ({len_S_train}+{len_F_train}) + Test ({len_S_test}+{len_F_test}) = {len_S_train+len_F_train+len_S_test+len_F_test} / {len(df_meta)}')"
   ]
  },
  {
   "cell_type": "markdown",
   "metadata": {},
   "source": [
    "The train/test set is tricket. It is a list of dataframes of the traces corresponding to execution=trace_id. "
   ]
  },
  {
   "cell_type": "code",
   "execution_count": 12,
   "metadata": {},
   "outputs": [
    {
     "name": "stdout",
     "output_type": "stream",
     "text": [
      "X_train=506, X_test=262, y_train=506, y_test=262\n"
     ]
    }
   ],
   "source": [
    "# 2. Collect traces for each execution type\n",
    "\n",
    "\n",
    "# Trace dataframe as inputs\n",
    "# X_train[0] contains all traces for first execution of X_meta_train\n",
    "X_train = [ df_all[ df_all['trace_id'] == trace_id ] for trace_id in X_meta_train.index  ]\n",
    "X_test  = [ df_all[ df_all['trace_id'] == trace_id ] for trace_id in X_meta_test.index  ]\n",
    "\n",
    "y_train = X_meta_train['STATE'].to_list()\n",
    "y_test  = X_meta_test['STATE'].to_list()\n",
    "\n",
    "print(f'X_train={len(X_train)}, X_test={len(X_test)}, y_train={len(y_train)}, y_test={len(y_test)}')\n",
    "\n",
    "# display(X_meta_train[:1])\n",
    "# display(X_train[0][['@timestamp', 'logtext', 'STATE']])\n",
    "# display(y_train[0])"
   ]
  },
  {
   "cell_type": "markdown",
   "metadata": {},
   "source": [
    "## Models\n",
    "\n",
    "All the models below uses the same strategy: if LOG is in Success, then LOG is harmless.\n",
    "We will use the skickit-learn interface to take leverage of their evaluation facilities"
   ]
  },
  {
   "cell_type": "markdown",
   "metadata": {},
   "source": [
    "### Evaluation"
   ]
  },
  {
   "cell_type": "code",
   "execution_count": 13,
   "metadata": {},
   "outputs": [],
   "source": [
    "def eval_model(model):\n",
    "    model.fit(X_train, y_train)\n",
    "    y_pred = model.predict(X_test)\n",
    "\n",
    "    cm = confusion_matrix(y_test, y_pred)\n",
    "    cm_normalized = cm / cm.sum(axis=1)[:, np.newaxis]  # Normalize by row sums\n",
    "\n",
    "    # disp = ConfusionMatrixDisplay(confusion_matrix=cm_normalized, display_labels=['Failed', 'Success'])\n",
    "    disp = ConfusionMatrixDisplay(confusion_matrix=cm, display_labels=['Failed', 'Success'])\n",
    "    disp.plot();\n",
    "\n",
    "    print(\"Accuracy:\", accuracy_score(y_pred, y_test))\n",
    "    print(\"F1 Score:\", f1_score(y_pred, y_test, average=\"weighted\"))\n",
    "    display(cm)"
   ]
  },
  {
   "cell_type": "markdown",
   "metadata": {},
   "source": [
    "### Example Model"
   ]
  },
  {
   "cell_type": "code",
   "execution_count": 14,
   "metadata": {},
   "outputs": [],
   "source": [
    "class VltErrPredictor1:\n",
    "\n",
    "    _harmless_errcodes = []\n",
    "    _errcodes_difference = []\n",
    "\n",
    "    # def __init__(self) -> None:\n",
    "    #     self._harmless_errcodes = []\n",
    "\n",
    "    def fit(self, X, y):\n",
    "        self._harmless_errcodes = []\n",
    "        for df, state in zip(X, y):\n",
    "            # If STATE = success, this errcode don't lead to a failed execution necessarily\n",
    "            if state=='Success':\n",
    "                errcodes = list(df['errcode'].unique())\n",
    "                self._harmless_errcodes += errcodes\n",
    "\n",
    "        self._harmless_errcodes = list(set(self._harmless_errcodes))\n",
    "        return True\n",
    "    \n",
    "    def predict(self, X):\n",
    "        # Check if any of the errcodes is not harmless\n",
    "        harmless = set(self._harmless_errcodes)\n",
    "        result = []\n",
    "        self._errcodes_difference = []\n",
    "        for df in X:\n",
    "            errcodes = set(df['errcode'].unique()) \n",
    "            if len(errcodes.difference(harmless)) > 0:\n",
    "                result.append('Failed')\n",
    "            else:\n",
    "                result.append('Success')\n",
    "            self._errcodes_difference.append( list(errcodes.difference(harmless)) )\n",
    "        return result\n"
   ]
  },
  {
   "cell_type": "code",
   "execution_count": 15,
   "metadata": {},
   "outputs": [
    {
     "data": {
      "text/plain": [
       "True"
      ]
     },
     "execution_count": 15,
     "metadata": {},
     "output_type": "execute_result"
    }
   ],
   "source": [
    "model = VltErrPredictor1()\n",
    "model.fit(X_train, y_train)"
   ]
  },
  {
   "cell_type": "code",
   "execution_count": 16,
   "metadata": {},
   "outputs": [
    {
     "name": "stdout",
     "output_type": "stream",
     "text": [
      "Success? ['Success', 'Success', 'Success', 'Success', 'Success']\n",
      "Failed? ['Failed', 'Success', 'Failed', 'Success', 'Success']\n"
     ]
    }
   ],
   "source": [
    "# Example: predict some values\n",
    "print('Success?', model.predict([df_all[ df_all['trace_id']==trace_id ] for trace_id in df_meta_success[:5].index ]))\n",
    "print('Failed?', model.predict([df_all[ df_all['trace_id']==trace_id ] for trace_id in df_meta_failed[-5:].index ]))"
   ]
  },
  {
   "cell_type": "markdown",
   "metadata": {},
   "source": [
    "### Base model"
   ]
  },
  {
   "cell_type": "code",
   "execution_count": 17,
   "metadata": {},
   "outputs": [],
   "source": [
    "class VltErrPredictorFeature:\n",
    "\n",
    "    _harmless_errcodes = []\n",
    "    _errcodes_difference = []\n",
    "\n",
    "    def __init__(self, feature):\n",
    "        self.feature = feature\n",
    "\n",
    "    def fit(self, X, y):\n",
    "        self._harmless_errcodes = []\n",
    "        for df, state in zip(X, y):\n",
    "            # If STATE = success, this errcode don't lead to a failed execution necessarily\n",
    "            if state=='Success':\n",
    "                errcodes = self.feature(df)\n",
    "                self._harmless_errcodes += errcodes\n",
    "\n",
    "        self._harmless_errcodes = list(set(self._harmless_errcodes))\n",
    "        return True\n",
    "    \n",
    "    def predict(self, X):\n",
    "        # Check if any of the errcodes is not harmless\n",
    "        harmless = set(self._harmless_errcodes)\n",
    "        result = []\n",
    "        self._errcodes_difference = []\n",
    "        for df in X:\n",
    "            errcodes = set( self.feature(df) ) \n",
    "            if len(errcodes.difference(harmless)) > 0:\n",
    "                result.append('Failed')\n",
    "            else:\n",
    "                result.append('Success')\n",
    "            self._errcodes_difference.append( list(errcodes.difference(harmless)) )\n",
    "        return result\n"
   ]
  },
  {
   "cell_type": "markdown",
   "metadata": {},
   "source": [
    "### Model 1: errcode only"
   ]
  },
  {
   "cell_type": "code",
   "execution_count": 18,
   "metadata": {},
   "outputs": [
    {
     "name": "stdout",
     "output_type": "stream",
     "text": [
      "Accuracy: 0.8473282442748091\n",
      "F1 Score: 0.8417940132302711\n"
     ]
    },
    {
     "data": {
      "text/plain": [
       "array([[ 15,  17],\n",
       "       [ 23, 207]])"
      ]
     },
     "metadata": {},
     "output_type": "display_data"
    },
    {
     "data": {
      "image/png": "[encoded data removed]",
      "text/plain": [
       "<Figure size 640x480 with 2 Axes>"
      ]
     },
     "metadata": {},
     "output_type": "display_data"
    }
   ],
   "source": [
    "def feature1(df):\n",
    "    return list(df['errcode'].unique())\n",
    "\n",
    "model = VltErrPredictorFeature(feature1)\n",
    "eval_model(model) \n"
   ]
  },
  {
   "cell_type": "markdown",
   "metadata": {},
   "source": [
    "### Model 2: errdata only"
   ]
  },
  {
   "cell_type": "code",
   "execution_count": 19,
   "metadata": {},
   "outputs": [
    {
     "name": "stdout",
     "output_type": "stream",
     "text": [
      "Accuracy: 0.8282442748091603\n",
      "F1 Score: 0.8031143372468593\n"
     ]
    },
    {
     "data": {
      "text/plain": [
       "array([[ 30,   2],\n",
       "       [ 43, 187]])"
      ]
     },
     "metadata": {},
     "output_type": "display_data"
    },
    {
     "data": {
      "image/png": "[encoded data removed]",
      "text/plain": [
       "<Figure size 640x480 with 2 Axes>"
      ]
     },
     "metadata": {},
     "output_type": "display_data"
    }
   ],
   "source": [
    "def feature2(df):\n",
    "    return list(df['errdata'].unique())\n",
    "\n",
    "model = VltErrPredictorFeature(feature2)\n",
    "eval_model(model) \n"
   ]
  },
  {
   "cell_type": "markdown",
   "metadata": {},
   "source": [
    "### Model 3: errcode + errdata"
   ]
  },
  {
   "cell_type": "markdown",
   "metadata": {},
   "source": [
    "Now we will include errcode + errdata, which was previously pre processed to remove numbers and symbols. The training will be done by using \n",
    "\n",
    "```python\n",
    "(df_all['errcode'] + df_all['errdata']).unique()\n",
    "```"
   ]
  },
  {
   "cell_type": "code",
   "execution_count": 20,
   "metadata": {},
   "outputs": [
    {
     "name": "stdout",
     "output_type": "stream",
     "text": [
      "Accuracy: 0.8244274809160306\n",
      "F1 Score: 0.7984648749523633\n"
     ]
    },
    {
     "data": {
      "text/plain": [
       "array([[ 30,   2],\n",
       "       [ 44, 186]])"
      ]
     },
     "metadata": {},
     "output_type": "display_data"
    },
    {
     "data": {
      "image/png": "[encoded data removed]",
      "text/plain": [
       "<Figure size 640x480 with 2 Axes>"
      ]
     },
     "metadata": {},
     "output_type": "display_data"
    }
   ],
   "source": [
    "def feature3(df):\n",
    "    return list((df['errcode'] + df['errdata']).unique())\n",
    "\n",
    "model = VltErrPredictorFeature(feature3)\n",
    "eval_model(model) "
   ]
  },
  {
   "cell_type": "markdown",
   "metadata": {},
   "source": [
    "### Model 4: procname + errcode\n",
    "\n",
    "The system will remove numbers for AT1 AT2 AT3 AT4 becomes simply AT"
   ]
  },
  {
   "cell_type": "code",
   "execution_count": 21,
   "metadata": {},
   "outputs": [
    {
     "name": "stdout",
     "output_type": "stream",
     "text": [
      "Accuracy: 0.8129770992366412\n",
      "F1 Score: 0.7955997016054038\n"
     ]
    },
    {
     "data": {
      "text/plain": [
       "array([[ 17,  15],\n",
       "       [ 34, 196]])"
      ]
     },
     "metadata": {},
     "output_type": "display_data"
    },
    {
     "data": {
      "image/png": "[encoded data removed]",
      "text/plain": [
       "<Figure size 640x480 with 2 Axes>"
      ]
     },
     "metadata": {},
     "output_type": "display_data"
    }
   ],
   "source": [
    "def feature4(df):\n",
    "    text = list((df['procname'] + ' ' + df['errcode']).unique())\n",
    "    text = [ re.sub(r'[0-9]', '', t) for t in text ]\n",
    "    return text\n",
    "\n",
    "model = VltErrPredictorFeature(feature4)\n",
    "eval_model(model) \n",
    "# model._errcodes_difference"
   ]
  },
  {
   "cell_type": "markdown",
   "metadata": {},
   "source": [
    "### Model 5: errcode without module name\n",
    "\n",
    "nmmgrERR_ABORTED -> ABORTED"
   ]
  },
  {
   "cell_type": "code",
   "execution_count": 22,
   "metadata": {},
   "outputs": [
    {
     "name": "stdout",
     "output_type": "stream",
     "text": [
      "Accuracy: 0.8129770992366412\n",
      "F1 Score: 0.7955997016054038\n"
     ]
    },
    {
     "data": {
      "text/plain": [
       "array([[ 17,  15],\n",
       "       [ 34, 196]])"
      ]
     },
     "metadata": {},
     "output_type": "display_data"
    },
    {
     "data": {
      "image/png": "[encoded data removed]",
      "text/plain": [
       "<Figure size 640x480 with 2 Axes>"
      ]
     },
     "metadata": {},
     "output_type": "display_data"
    }
   ],
   "source": [
    "def feature4(df):\n",
    "    text = list((df['procname'] + ' ' + df['errcode']).unique())\n",
    "    text = [ re.sub(r'[0-9]', '', t) for t in text ]\n",
    "    text = [ re.sub(r'\\w+ERR_', '', t) for t in text ]\n",
    "    return text\n",
    "\n",
    "model = VltErrPredictorFeature(feature4)\n",
    "eval_model(model) \n",
    "# model._errcodes_difference"
   ]
  },
  {
   "cell_type": "code",
   "execution_count": null,
   "metadata": {},
   "outputs": [],
   "source": []
  }
 ],
 "metadata": {
  "kernelspec": {
   "display_name": "env",
   "language": "python",
   "name": "python3"
  },
  "language_info": {
   "codemirror_mode": {
    "name": "ipython",
    "version": 3
   },
   "file_extension": ".py",
   "mimetype": "text/x-python",
   "name": "python",
   "nbconvert_exporter": "python",
   "pygments_lexer": "ipython3",
   "version": "3.10.9"
  }
 },
 "nbformat": 4,
 "nbformat_minor": 2
}
