{
 "cells": [
  {
   "cell_type": "markdown",
   "metadata": {},
   "source": [
    "# Naive Bayes example"
   ]
  },
  {
   "cell_type": "markdown",
   "metadata": {},
   "source": [
    "2023-12-24 by @jpgil\n",
    "\n",
    "This notebook is available in Google Colaboratory at https://colab.research.google.com/github/paranal-sw/parlogs-observations/blob/main/notebooks/04-naive-bayes.ipynb\n",
    "\n",
    "Based on the previous notebook of simple error analysis, let's train Naive Bayes predictor. For a more detailed explanation of Naive Bayes please refer to https://www.datacamp.com/tutorial/naive-bayes-scikit-learn"
   ]
  },
  {
   "cell_type": "markdown",
   "metadata": {},
   "source": [
    "## Imports and Dataset"
   ]
  },
  {
   "cell_type": "code",
   "execution_count": 1,
   "metadata": {},
   "outputs": [],
   "source": [
    "import os\n",
    "import re\n",
    "import pandas as pd\n",
    "from datetime import datetime\n",
    "import matplotlib.pyplot as plt\n",
    "import numpy as np\n",
    "from sklearn.metrics import (\n",
    "    precision_score,\n",
    "    accuracy_score,\n",
    "    confusion_matrix,\n",
    "    ConfusionMatrixDisplay,\n",
    "    f1_score,\n",
    "    classification_report,\n",
    ")\n",
    "\n",
    "\n",
    "# Set the warning mode to 'None' to suppress the warning SettingWithCopyWarning\n",
    "pd.options.mode.chained_assignment = None"
   ]
  },
  {
   "cell_type": "markdown",
   "metadata": {},
   "source": [
    "### Load Dataset"
   ]
  },
  {
   "cell_type": "code",
   "execution_count": 2,
   "metadata": {},
   "outputs": [],
   "source": [
    "from urllib.request import urlretrieve\n",
    "def direct_load(fname):\n",
    "    if not os.path.exists(f'{PATH}/{fname}'):\n",
    "        urlretrieve(f'{REPO_URL}/{fname}', f'{PATH}/{fname}')\n",
    "    df=pd.read_parquet(f'{PATH}/{fname}')\n",
    "    return df\n"
   ]
  },
  {
   "cell_type": "code",
   "execution_count": 3,
   "metadata": {},
   "outputs": [],
   "source": [
    "INSTRUMENT='GRAVITY'\n",
    "RANGE='1m'\n",
    "REPO_URL='https://huggingface.co/datasets/Paranal/parlogs-observations/resolve/main/data'\n",
    "PATH='sample_data' # Convenient name to be Colab compatible\n",
    "\n",
    "!mkdir -p $PATH\n",
    "\n",
    "df_meta = direct_load(f'{INSTRUMENT}-{RANGE}-meta.parket')\n",
    "df_inst = direct_load(f'{INSTRUMENT}-{RANGE}-traces.parket')\n",
    "df_subs = direct_load(f'{INSTRUMENT}-{RANGE}-traces-SUBSYSTEMS.parket')\n",
    "df_tele = direct_load(f'{INSTRUMENT}-{RANGE}-traces-TELESCOPES.parket')"
   ]
  },
  {
   "cell_type": "markdown",
   "metadata": {},
   "source": [
    "## Overview\n",
    "\n",
    "Each trace will be labeled by the state of its parent execution state. For example, if an failed observation execution generated 100 event traces, all those traces will be marked as \"Failed\".\n",
    "\n",
    "Next, for each trace we will concatenate all"
   ]
  },
  {
   "cell_type": "markdown",
   "metadata": {},
   "source": [
    "## Prepare the dataset"
   ]
  },
  {
   "cell_type": "markdown",
   "metadata": {},
   "source": []
  },
  {
   "cell_type": "code",
   "execution_count": 4,
   "metadata": {},
   "outputs": [],
   "source": [
    "# Feature extraction \n",
    "\n",
    "def extract_errcode(x):\n",
    "    return x.split()[0] if 'ERR_' in x else '' \n",
    "\n",
    "def extract_errdata(x):\n",
    "    # Given the nature of error logs, the majority uses the pattern .+ERR_.+, but other important ERR logs must be used as is.\n",
    "    if 'ERR_' in x:\n",
    "        errdata=' '.join(x.split()[2:])\n",
    "        return re.sub(r'[^a-zA-Z\\ ]', ' ', errdata)\n",
    "    else:\n",
    "        return ''\n"
   ]
  },
  {
   "cell_type": "code",
   "execution_count": 5,
   "metadata": {},
   "outputs": [
    {
     "name": "stdout",
     "output_type": "stream",
     "text": [
      "There all 3541706 total traces\n",
      "After filtering, there are 848633 ERR traces\n",
      "215 empty errcodes about to be discarded of  848633 events in trace\n"
     ]
    }
   ],
   "source": [
    "# Merge the datasets\n",
    "df_all = pd.concat([df_inst, df_subs, df_tele]).sort_values('@timestamp').reset_index(drop=True)\n",
    "print(f'There all {len(df_all)} total traces')\n",
    "\n",
    "# All the traces are merged and filtered by ERR only\n",
    "df_all = df_all[ df_all['logtype']=='ERR']\n",
    "print(f'After filtering, there are {len(df_all)} ERR traces')\n",
    "\n",
    "# Extract features\n",
    "df_all['errcode'] = df_all['logtext'].apply( extract_errcode )\n",
    "df_all['errdata'] = df_all['logtext'].apply( extract_errdata )\n",
    "\n",
    "print(f'{len(df_all[ df_all[\"errcode\"]==\"\" ])} empty errcodes about to be discarded of  {len(df_all)} events in trace')\n",
    "\n",
    "df_all = df_all[ df_all[\"errcode\"]!=\"\" ]\n"
   ]
  },
  {
   "cell_type": "code",
   "execution_count": 6,
   "metadata": {},
   "outputs": [
    {
     "name": "stdout",
     "output_type": "stream",
     "text": [
      "Of all executions, 92 failed and 676 were successful\n"
     ]
    }
   ],
   "source": [
    "# Split in success, failed\n",
    "df_meta_success = df_meta[ df_meta['ERROR']==False ]\n",
    "df_meta_success['STATE'] = 'Success'\n",
    "\n",
    "df_meta_failed  = df_meta[ df_meta['ERROR']==True ]\n",
    "df_meta_failed['STATE']  = 'Failed'\n",
    "\n",
    "print(f'Of all executions, {len(df_meta_failed)} failed and {len(df_meta_success)} were successful')"
   ]
  },
  {
   "cell_type": "markdown",
   "metadata": {},
   "source": [
    "## Train Test Split"
   ]
  },
  {
   "cell_type": "code",
   "execution_count": 7,
   "metadata": {},
   "outputs": [
    {
     "name": "stdout",
     "output_type": "stream",
     "text": [
      "Train (446+60) + Test (230+32) = 768 / 768\n"
     ]
    }
   ],
   "source": [
    "# Train Test factor\n",
    "FACTOR=0.66\n",
    "\n",
    "# 1. Split the executions, in df_meta_*\n",
    "\n",
    "# Randomize\n",
    "df_meta_success=df_meta_success.sample(frac=1)\n",
    "df_meta_failed =df_meta_failed.sample(frac=1)\n",
    "\n",
    "len_S_train = int( len(df_meta_success) * FACTOR )\n",
    "len_F_train = int( len(df_meta_failed) * FACTOR )\n",
    "\n",
    "# Up to len_*_train\n",
    "X_meta_train = pd.concat([df_meta_success[:len_S_train], df_meta_failed[:len_F_train]])\n",
    "\n",
    "len_S_test = len(df_meta_success) - len_S_train\n",
    "len_F_test = len(df_meta_failed) - len_F_train\n",
    "\n",
    "# From len_*_test until end\n",
    "X_meta_test  = pd.concat([df_meta_success[-len_S_test:],  df_meta_failed[-len_F_test:]])\n",
    "\n",
    "print(f'Train ({len_S_train}+{len_F_train}) + Test ({len_S_test}+{len_F_test}) = {len_S_train+len_F_train+len_S_test+len_F_test} / {len(df_meta)}')\n",
    "\n"
   ]
  },
  {
   "cell_type": "code",
   "execution_count": 8,
   "metadata": {},
   "outputs": [],
   "source": [
    "# 2. Collect traces for each execution type\n",
    "\n",
    "y_train = X_meta_train['STATE'].to_list()\n",
    "y_test  = X_meta_test['STATE'].to_list()"
   ]
  },
  {
   "cell_type": "code",
   "execution_count": 9,
   "metadata": {},
   "outputs": [
    {
     "name": "stdout",
     "output_type": "stream",
     "text": [
      "X_train=506, X_test=262, y_train=506, y_test=262\n"
     ]
    }
   ],
   "source": [
    "import numpy as np\n",
    "from sklearn.feature_extraction.text import CountVectorizer, TfidfVectorizer\n",
    "from sklearn.model_selection import train_test_split\n",
    "from sklearn.naive_bayes import MultinomialNB\n",
    "from sklearn.metrics import classification_report, accuracy_score\n",
    "\n",
    "# 3. Vectorize the words\n",
    "\n",
    "# Trace dataframe as inputs\n",
    "# X_train[0] contains all traces for first execution of X_meta_train\n",
    "X_train_errcodes = [ ' '.join(list(df_all[ df_all['trace_id'] == trace_id ]['errcode'])) for trace_id in X_meta_train.index  ]\n",
    "X_test_errcodes  = [ ' '.join(list(df_all[ df_all['trace_id'] == trace_id ]['errcode'])) for trace_id in X_meta_test.index  ]\n",
    "\n",
    "# display(X_test_errcodes)\n",
    "\n",
    "# Using CountVectorizer\n",
    "vectorizer = CountVectorizer()\n",
    "X_train = vectorizer.fit_transform(X_train_errcodes)\n",
    "X_test = vectorizer.transform(X_test_errcodes)\n",
    "\n",
    "print(f'X_train={X_train.shape[0]}, X_test={X_test.shape[0]}, y_train={len(y_train)}, y_test={len(y_test)}')\n"
   ]
  },
  {
   "cell_type": "code",
   "execution_count": 10,
   "metadata": {},
   "outputs": [
    {
     "name": "stdout",
     "output_type": "stream",
     "text": [
      "Accuracy: 0.82\n",
      "Classification Report:\n",
      "              precision    recall  f1-score   support\n",
      "\n",
      "      Failed       0.19      0.16      0.17        32\n",
      "     Success       0.89      0.91      0.90       230\n",
      "\n",
      "    accuracy                           0.82       262\n",
      "   macro avg       0.54      0.53      0.53       262\n",
      "weighted avg       0.80      0.82      0.81       262\n",
      "\n"
     ]
    },
    {
     "data": {
      "image/png": "[encoded data removed]",
      "text/plain": [
       "<Figure size 640x480 with 2 Axes>"
      ]
     },
     "metadata": {},
     "output_type": "display_data"
    }
   ],
   "source": [
    "\n",
    "classifier = MultinomialNB()\n",
    "\n",
    "classifier.fit(X_train, y_train)\n",
    "\n",
    "y_pred = classifier.predict(X_test)\n",
    "\n",
    "accuracy = accuracy_score(y_test, y_pred)\n",
    "cm = confusion_matrix(y_test, y_pred)\n",
    "classification_rep = classification_report(y_test, y_pred)\n",
    "\n",
    "print(f\"Accuracy: {accuracy:.2f}\")\n",
    "print(\"Classification Report:\")\n",
    "print(classification_rep)\n",
    "\n",
    "disp = ConfusionMatrixDisplay(confusion_matrix=cm, display_labels=['Failed', 'Success'])\n",
    "disp.plot();\n",
    "\n"
   ]
  },
  {
   "cell_type": "code",
   "execution_count": 11,
   "metadata": {},
   "outputs": [
    {
     "data": {
      "text/plain": [
       "array([ 60., 446.])"
      ]
     },
     "execution_count": 11,
     "metadata": {},
     "output_type": "execute_result"
    }
   ],
   "source": [
    "classifier.class_count_"
   ]
  }
 ],
 "metadata": {
  "kernelspec": {
   "display_name": "env",
   "language": "python",
   "name": "python3"
  },
  "language_info": {
   "codemirror_mode": {
    "name": "ipython",
    "version": 3
   },
   "file_extension": ".py",
   "mimetype": "text/x-python",
   "name": "python",
   "nbconvert_exporter": "python",
   "pygments_lexer": "ipython3",
   "version": "3.10.9"
  }
 },
 "nbformat": 4,
 "nbformat_minor": 2
}
